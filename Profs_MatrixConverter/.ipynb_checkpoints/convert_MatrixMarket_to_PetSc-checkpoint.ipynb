{
 "cells": [
  {
   "cell_type": "code",
   "execution_count": 2,
   "id": "82004473-e320-4be7-b194-cf5f344bff83",
   "metadata": {},
   "outputs": [
    {
     "ename": "ModuleNotFoundError",
     "evalue": "No module named 'petsc_conf'",
     "output_type": "error",
     "traceback": [
      "\u001b[0;31m---------------------------------------------------------------------------\u001b[0m",
      "\u001b[0;31mModuleNotFoundError\u001b[0m                       Traceback (most recent call last)",
      "\u001b[0;32m/var/folders/g4/q80fmvg52738ggk6c7xks8t40000gn/T/ipykernel_11569/3273177555.py\u001b[0m in \u001b[0;36m<module>\u001b[0;34m\u001b[0m\n\u001b[1;32m      9\u001b[0m \u001b[0;32mimport\u001b[0m \u001b[0mPetscBinaryIO\u001b[0m\u001b[0;34m\u001b[0m\u001b[0;34m\u001b[0m\u001b[0m\n\u001b[1;32m     10\u001b[0m \u001b[0;32mimport\u001b[0m \u001b[0mscipy\u001b[0m\u001b[0;34m.\u001b[0m\u001b[0mio\u001b[0m\u001b[0;34m\u001b[0m\u001b[0;34m\u001b[0m\u001b[0m\n\u001b[0;32m---> 11\u001b[0;31m \u001b[0;32mimport\u001b[0m \u001b[0mpetsc_conf\u001b[0m\u001b[0;34m\u001b[0m\u001b[0;34m\u001b[0m\u001b[0m\n\u001b[0m",
      "\u001b[0;31mModuleNotFoundError\u001b[0m: No module named 'petsc_conf'"
     ]
    }
   ],
   "source": [
    "#! /usr/bin/env python3\n",
    "\n",
    "import os\n",
    "import sys\n",
    "\n",
    "os.environ['PETSC_DIR'] = '/usr/lib/petsc'\n",
    "sys.path.append('/usr/share/petsc/3.14/lib/petsc/bin')\n",
    "\n",
    "import PetscBinaryIO\n",
    "import scipy.io\n",
    "import petsc_conf"
   ]
  },
  {
   "cell_type": "code",
   "execution_count": null,
   "id": "5e4633f2-99ec-4fe8-8462-5b7ce5ea2e6f",
   "metadata": {},
   "outputs": [],
   "source": [
    "\n",
    "matrix_name = sys.argv[1]\n",
    "matrix = scipy.io.mmread(matrix_name + '.mtx')\n",
    "with open(matrix_name + '_petsc', 'w') as petsc_file:\n",
    "    PetscBinaryIO.PetscBinaryIO().writeMatSciPy(petsc_file, matrix)"
   ]
  }
 ],
 "metadata": {
  "kernelspec": {
   "display_name": "Python [conda env:datascience1] *",
   "language": "python",
   "name": "conda-env-datascience1-py"
  },
  "language_info": {
   "codemirror_mode": {
    "name": "ipython",
    "version": 3
   },
   "file_extension": ".py",
   "mimetype": "text/x-python",
   "name": "python",
   "nbconvert_exporter": "python",
   "pygments_lexer": "ipython3",
   "version": "3.8.11"
  }
 },
 "nbformat": 4,
 "nbformat_minor": 5
}
